{
  "cells": [
    {
      "cell_type": "markdown",
      "metadata": {
        "id": "view-in-github",
        "colab_type": "text"
      },
      "source": [
        "<a href=\"https://colab.research.google.com/github/ritwiks9635/My_priject_file_5/blob/main/dog_breed_classification.ipynb\" target=\"_parent\"><img src=\"https://colab.research.google.com/assets/colab-badge.svg\" alt=\"Open In Colab\"/></a>"
      ]
    },
    {
      "cell_type": "markdown",
      "source": [
        "IMPORT MODULE"
      ],
      "metadata": {
        "id": "Ux87H1LRtCtN"
      }
    },
    {
      "cell_type": "code",
      "source": [
        "import cv2\n",
        "import numpy as np \n",
        "import pandas as pd\n",
        "import tensorflow as tf \n",
        "from tensorflow import keras \n",
        "import matplotlib.pyplot as plt\n",
        "from sklearn.metrics import classification_report, confusion_matrix\n",
        "from keras.preprocessing.image import ImageDataGenerator\n",
        "from tensorflow.keras import applications\n",
        "from keras.models import Sequential, load_model\n",
        "from keras.layers import Conv2D, MaxPooling2D, GlobalAveragePooling2D, Flatten, Dense, Dropout\n",
        "from keras.preprocessing import image\n",
        "import warnings \n",
        "warnings.filterwarnings(\"ignore\")"
      ],
      "metadata": {
        "id": "YLYz_QGiNH3t"
      },
      "execution_count": null,
      "outputs": []
    },
    {
      "cell_type": "markdown",
      "source": [
        "Import dataset"
      ],
      "metadata": {
        "id": "Z_sDt8DJeaF2"
      }
    },
    {
      "cell_type": "code",
      "source": [
        "from google.colab import drive\n",
        "drive.mount('/content/drive')"
      ],
      "metadata": {
        "colab": {
          "base_uri": "https://localhost:8080/"
        },
        "id": "owWZouIpOQ0D",
        "outputId": "b5c30ee9-6701-47e5-a68a-068d04a5abc9"
      },
      "execution_count": null,
      "outputs": [
        {
          "output_type": "stream",
          "name": "stdout",
          "text": [
            "Mounted at /content/drive\n"
          ]
        }
      ]
    },
    {
      "cell_type": "code",
      "source": [
        "labels = pd.read_csv(\"/content/drive/MyDrive/labels.csv\")\n",
        "train = \"/content/drive/MyDrive/train\"\n",
        "test = \"/content/drive/MyDrive/test\""
      ],
      "metadata": {
        "id": "MwCUwi4pTKV0"
      },
      "execution_count": null,
      "outputs": []
    },
    {
      "cell_type": "code",
      "source": [
        "labels.head(4)"
      ],
      "metadata": {
        "id": "2zvPnWrKTqPn"
      },
      "execution_count": null,
      "outputs": []
    },
    {
      "cell_type": "markdown",
      "source": [
        "Adding ‘.jpg’ extension to each id"
      ],
      "metadata": {
        "id": "fEdZkIdZf3TD"
      }
    },
    {
      "cell_type": "code",
      "source": [
        "def to_jpg(id):\n",
        "  return id + \".jpg\"\n",
        "\n",
        "labels[\"id\"] = labels[\"id\"].apply(to_jpg)"
      ],
      "metadata": {
        "id": "dP8VNySPTv9k"
      },
      "execution_count": null,
      "outputs": []
    },
    {
      "cell_type": "code",
      "source": [
        "labels.head()"
      ],
      "metadata": {
        "id": "_OWYHAS0UcLq"
      },
      "execution_count": null,
      "outputs": []
    },
    {
      "cell_type": "markdown",
      "source": [
        "Augmenting data"
      ],
      "metadata": {
        "id": "XHTlUryff5y4"
      }
    },
    {
      "cell_type": "code",
      "source": [
        "data_gen = ImageDataGenerator(\n",
        "  rescale = 1./255, \n",
        "  horizontal_flip = True,\n",
        "  validation_split=0.2)"
      ],
      "metadata": {
        "id": "Jje_Vna7Uh-R"
      },
      "execution_count": null,
      "outputs": []
    },
    {
      "cell_type": "code",
      "source": [
        "train_gen = data_gen.flow_from_dataframe(\n",
        "  labels,\n",
        "  directory = train,\n",
        "  x_col = \"id\",\n",
        "  y_col = \"breed\",\n",
        "  subset = \"training\",\n",
        "  color_mode = \"rgb\",\n",
        "  target_size = (331, 331),\n",
        "  class_mode = \"categorical\",\n",
        "  batch_size = 32,\n",
        "  shuffle = True,\n",
        "  seed = 42)\n",
        "\n",
        "val_gen = data_gen.flow_from_dataframe(\n",
        "  labels,\n",
        "  directory = train,\n",
        "  x_col = \"id\",\n",
        "  y_col = \"breed\",\n",
        "  subset = \"validation\",\n",
        "  color_mode = \"rgb\",\n",
        "  target_size = (331, 331),\n",
        "  class_mode = \"categorical\",\n",
        "  batch_size = 32,\n",
        "  shuffle = True,\n",
        "  seed = 42)"
      ],
      "metadata": {
        "id": "8kP2VfmOVSOV"
      },
      "execution_count": null,
      "outputs": []
    },
    {
      "cell_type": "code",
      "source": [
        "x, y = next(train_gen)\n",
        "x.shape"
      ],
      "metadata": {
        "colab": {
          "base_uri": "https://localhost:8080/"
        },
        "id": "g45hPzk0YDfL",
        "outputId": "a7c34d62-d0ba-4787-a859-f4a761b419c4"
      },
      "execution_count": null,
      "outputs": [
        {
          "output_type": "execute_result",
          "data": {
            "text/plain": [
              "(32, 331, 331, 3)"
            ]
          },
          "metadata": {},
          "execution_count": 9
        }
      ]
    },
    {
      "cell_type": "markdown",
      "source": [
        "Plotting images from the train dataset"
      ],
      "metadata": {
        "id": "DUtkXuSxgU0D"
      }
    },
    {
      "cell_type": "code",
      "source": [
        "a = train_gen.class_indices\n",
        "class_name = list(a.keys())\n",
        "def plot_img(image, labels):\n",
        "  plt.figure(figsize=(15,10))\n",
        "  for i in range(25):\n",
        "    plt.subplot(5,5,i+1)\n",
        "    plt.imshow(image[i])\n",
        "    plt.title(class_name[np.argmax(labels[i])])\n",
        "    plt.axis(\"off\")"
      ],
      "metadata": {
        "id": "5UMZWKsOYakD"
      },
      "execution_count": null,
      "outputs": []
    },
    {
      "cell_type": "code",
      "source": [
        "plot_img(x,y)"
      ],
      "metadata": {
        "id": "_U9jImBCZXjc"
      },
      "execution_count": null,
      "outputs": []
    },
    {
      "cell_type": "markdown",
      "source": [
        "Building our Model"
      ],
      "metadata": {
        "id": "qX2rBtY8gcp4"
      }
    },
    {
      "cell_type": "code",
      "source": [
        "# load the InceptionResNetV2 architecture with imagenet weights as base\n",
        "base_model = applications.InceptionResNetV2(\n",
        "  include_top=False,\n",
        "  weights = \"imagenet\",\n",
        "  input_shape = (331,331,3))\n",
        "base_model.trainable=False"
      ],
      "metadata": {
        "id": "5BbhHJXNbWvM",
        "colab": {
          "base_uri": "https://localhost:8080/"
        },
        "outputId": "005e16fd-3136-4e2e-c92c-2fd71d448b87"
      },
      "execution_count": null,
      "outputs": [
        {
          "output_type": "stream",
          "name": "stdout",
          "text": [
            "Downloading data from https://storage.googleapis.com/tensorflow/keras-applications/inception_resnet_v2/inception_resnet_v2_weights_tf_dim_ordering_tf_kernels_notop.h5\n",
            "219055592/219055592 [==============================] - 11s 0us/step\n"
          ]
        }
      ]
    },
    {
      "cell_type": "code",
      "source": [
        "model = Sequential([\n",
        "  base_model,\n",
        "  tf.keras.layers.BatchNormalization(renorm = True),\n",
        "  GlobalAveragePooling2D(),\n",
        "  Dense(512, activation = \"relu\"),\n",
        "  Dense(256, activation = \"relu\"),\n",
        "  Dropout(0.5),\n",
        "  Dense(128, activation = \"relu\"),\n",
        "  Dense(120, activation = \"softmax\")])"
      ],
      "metadata": {
        "id": "Ptdg-q47cbYT"
      },
      "execution_count": null,
      "outputs": []
    },
    {
      "cell_type": "markdown",
      "source": [
        "Compile the model"
      ],
      "metadata": {
        "id": "EdducJC3gxJS"
      }
    },
    {
      "cell_type": "code",
      "source": [
        "model.compile(optimizer = \"adam\", loss = \"categorical_crossentropy\", metrics = [\"accuracy\"])"
      ],
      "metadata": {
        "id": "3z_Avn8AerN-"
      },
      "execution_count": null,
      "outputs": []
    },
    {
      "cell_type": "markdown",
      "source": [
        "Displaying a summary report of the model"
      ],
      "metadata": {
        "id": "G8D_14XEg5dD"
      }
    },
    {
      "cell_type": "code",
      "source": [
        "model.summary()"
      ],
      "metadata": {
        "id": "acHSNc9gfQML"
      },
      "execution_count": null,
      "outputs": []
    },
    {
      "cell_type": "markdown",
      "source": [
        "Defining callbacks to preserve the best results"
      ],
      "metadata": {
        "id": "LHqr9kI9hXFQ"
      }
    },
    {
      "cell_type": "code",
      "source": [
        "early_stop = tf.keras.callbacks.EarlyStopping(patience = 10, min_delta = 0.001, restore_best_weights = True)"
      ],
      "metadata": {
        "id": "Ef6yvEtFfl6V"
      },
      "execution_count": null,
      "outputs": []
    },
    {
      "cell_type": "markdown",
      "source": [
        "Training the model"
      ],
      "metadata": {
        "id": "Iy1bRVwMhchY"
      }
    },
    {
      "cell_type": "code",
      "source": [
        "\n",
        "batch_size=32\n",
        "STEP_SIZE_TRAIN = train_gen.n//train_gen.batch_size\n",
        "STEP_SIZE_VALID = val_gen.n//val_gen.batch_size\n",
        " \n",
        "# fit model\n",
        "history = model.fit(train_gen,\n",
        "                    steps_per_epoch=STEP_SIZE_TRAIN,\n",
        "                    validation_data=val_gen,\n",
        "                    validation_steps=STEP_SIZE_VALID,\n",
        "                    epochs=25,\n",
        "                    callbacks=[early_stop])"
      ],
      "metadata": {
        "id": "iA5FgZAzdjmx"
      },
      "execution_count": null,
      "outputs": []
    },
    {
      "cell_type": "markdown",
      "source": [
        "Visualizing the model’s performance"
      ],
      "metadata": {
        "id": "wBKRUGfWhuHE"
      }
    },
    {
      "cell_type": "code",
      "source": [
        "\n",
        "# store results\n",
        "acc = history.history['accuracy']\n",
        "val_acc = history.history['val_accuracy']\n",
        "loss = history.history['loss']\n",
        "val_loss = history.history['val_loss']\n",
        " \n",
        " \n",
        "# plot results\n",
        "# accuracy\n",
        "plt.figure(figsize=(10, 16))\n",
        "plt.rcParams['figure.figsize'] = [16, 9]\n",
        "plt.rcParams['font.size'] = 14\n",
        "plt.rcParams['axes.grid'] = True\n",
        "plt.rcParams['figure.facecolor'] = 'white'\n",
        "plt.subplot(2, 1, 1)\n",
        "plt.plot(acc, label='Training Accuracy')\n",
        "plt.plot(val_acc, label='Validation Accuracy')\n",
        "plt.legend(loc='lower right')\n",
        "plt.ylabel('Accuracy')\n",
        "plt.title(f'\\nTraining and Validation Accuracy. \\nTrain Accuracy:\n",
        "          {str(acc[-1])}\\nValidation Accuracy: {str(val_acc[-1])}')"
      ],
      "metadata": {
        "id": "fTasKBaReN4d"
      },
      "execution_count": null,
      "outputs": []
    },
    {
      "cell_type": "code",
      "source": [
        "\n",
        "# loss\n",
        "plt.subplot(2, 1, 2)\n",
        "plt.plot(loss, label='Training Loss')\n",
        "plt.plot(val_loss, label='Validation Loss')\n",
        "plt.legend(loc='upper right')\n",
        "plt.ylabel('Cross Entropy')\n",
        "plt.title(f'Training and Validation Loss. \\nTrain Loss:\n",
        "          {str(loss[-1])}\\nValidation Loss: {str(val_loss[-1])}')\n",
        "plt.xlabel('epoch')\n",
        "plt.tight_layout(pad=3.0)\n",
        "plt.show()"
      ],
      "metadata": {
        "id": "NqpBEvAYenaj"
      },
      "execution_count": null,
      "outputs": []
    },
    {
      "cell_type": "markdown",
      "source": [
        "Evaluating the accuracy of the model"
      ],
      "metadata": {
        "id": "DHcuAW9ph0rS"
      }
    },
    {
      "cell_type": "code",
      "source": [
        "\n",
        "accuracy_score = model.evaluate(val_gen)\n",
        "print(accuracy_score)\n",
        "print(\"Accuracy: {:.4f}%\".format(accuracy_score[1] * 100))\n",
        " \n",
        "print(\"Loss: \",accuracy_score[0])"
      ],
      "metadata": {
        "id": "UUX97sYpesXt"
      },
      "execution_count": null,
      "outputs": []
    }
  ],
  "metadata": {
    "accelerator": "GPU",
    "colab": {
      "provenance": [],
      "include_colab_link": true
    },
    "gpuClass": "standard",
    "kernelspec": {
      "display_name": "Python 3",
      "name": "python3"
    },
    "language_info": {
      "name": "python"
    }
  },
  "nbformat": 4,
  "nbformat_minor": 0
}
{
  "cells": [
    {
      "cell_type": "markdown",
      "metadata": {
        "id": "view-in-github",
        "colab_type": "text"
      },
      "source": [
        "<a href=\"https://colab.research.google.com/github/ritwiks9635/CNN_Project_File/blob/main/PixelCNN.ipynb\" target=\"_parent\"><img src=\"https://colab.research.google.com/assets/colab-badge.svg\" alt=\"Open In Colab\"/></a>"
      ]
    },
    {
      "cell_type": "markdown",
      "source": [
        "# Start"
      ],
      "metadata": {
        "id": "Z4J4V8LTXMuZ"
      }
    },
    {
      "cell_type": "code",
      "source": [
        "! pip install keras --upgrade"
      ],
      "metadata": {
        "id": "5CpDiBuGygSg"
      },
      "execution_count": null,
      "outputs": []
    },
    {
      "cell_type": "code",
      "source": [
        "import numpy as np\n",
        "import keras\n",
        "from keras import layers\n",
        "from keras import ops\n",
        "from tqdm import tqdm"
      ],
      "metadata": {
        "id": "LrZHDPb6ya8X"
      },
      "execution_count": 2,
      "outputs": []
    },
    {
      "cell_type": "code",
      "source": [
        "# Model / data parameters\n",
        "num_classes = 10\n",
        "input_shape = (32, 32, 3)\n",
        "n_residual_blocks = 5\n",
        "# The data, split between train and test sets\n",
        "(x, _), (y, _) = keras.datasets.cifar10.load_data()\n",
        "# Concatenate all the images together\n",
        "data = np.concatenate((x, y), axis=0)\n",
        "# Round all pixel values less than 33% of the max 256 value to 0\n",
        "# anything above this value gets rounded up to 1 so that all values are either\n",
        "# 0 or 1\n",
        "data = np.where(data < (0.33 * 256), 0, 1)\n",
        "data = data.astype(np.float32)"
      ],
      "metadata": {
        "colab": {
          "base_uri": "https://localhost:8080/"
        },
        "id": "Nge1_zd7yvrA",
        "outputId": "afd3d214-81d8-44c6-d9a7-4f799ac597c4"
      },
      "execution_count": 3,
      "outputs": [
        {
          "output_type": "stream",
          "name": "stdout",
          "text": [
            "Downloading data from https://www.cs.toronto.edu/~kriz/cifar-10-python.tar.gz\n",
            "\u001b[1m170498071/170498071\u001b[0m \u001b[32m━━━━━━━━━━━━━━━━━━━━\u001b[0m\u001b[37m\u001b[0m \u001b[1m4s\u001b[0m 0us/step\n"
          ]
        }
      ]
    },
    {
      "cell_type": "code",
      "source": [
        "# The first layer is the PixelCNN layer. This layer simply\n",
        "# builds on the 2D convolutional layer, but includes masking.\n",
        "class PixelConvLayer(layers.Layer):\n",
        "    def __init__(self, mask_type, **kwargs):\n",
        "        super().__init__()\n",
        "        self.mask_type = mask_type\n",
        "        self.conv = layers.Conv2D(**kwargs)\n",
        "\n",
        "    def build(self, input_shape):\n",
        "        # Build the conv2d layer to initialize kernel variables\n",
        "        self.conv.build(input_shape)\n",
        "        # Use the initialized kernel to create the mask\n",
        "        kernel_shape = ops.shape(self.conv.kernel)\n",
        "        self.mask = np.zeros(shape=kernel_shape)\n",
        "        self.mask[: kernel_shape[0] // 2, ...] = 1.0\n",
        "        self.mask[kernel_shape[0] // 2, : kernel_shape[1] // 2, ...] = 1.0\n",
        "        if self.mask_type == \"B\":\n",
        "            self.mask[kernel_shape[0] // 2, kernel_shape[1] // 2, ...] = 1.0\n",
        "\n",
        "    def call(self, inputs):\n",
        "        self.conv.kernel.assign(self.conv.kernel * self.mask)\n",
        "        return self.conv(inputs)\n",
        "\n",
        "\n",
        "# Next, we build our residual block layer.\n",
        "# This is just a normal residual block, but based on the PixelConvLayer.\n",
        "class ResidualBlock(keras.layers.Layer):\n",
        "    def __init__(self, filters, **kwargs):\n",
        "        super().__init__(**kwargs)\n",
        "        self.conv1 = keras.layers.Conv2D(\n",
        "            filters=filters, kernel_size=1, activation=\"relu\"\n",
        "        )\n",
        "        self.pixel_conv = PixelConvLayer(\n",
        "            mask_type=\"B\",\n",
        "            filters=filters // 2,\n",
        "            kernel_size=3,\n",
        "            activation=\"relu\",\n",
        "            padding=\"same\",\n",
        "        )\n",
        "        self.conv2 = keras.layers.Conv2D(\n",
        "            filters=filters, kernel_size=1, activation=\"relu\"\n",
        "        )\n",
        "\n",
        "    def call(self, inputs):\n",
        "        x = self.conv1(inputs)\n",
        "        x = self.pixel_conv(x)\n",
        "        x = self.conv2(x)\n",
        "        return keras.layers.add([inputs, x])"
      ],
      "metadata": {
        "id": "D8nJdVT7y6Nw"
      },
      "execution_count": 4,
      "outputs": []
    },
    {
      "cell_type": "code",
      "source": [
        "inputs = keras.Input(shape=input_shape, batch_size=128)\n",
        "x = PixelConvLayer(\n",
        "    mask_type=\"A\", filters=128, kernel_size=7, activation=\"relu\", padding=\"same\"\n",
        ")(inputs)\n",
        "\n",
        "for _ in range(n_residual_blocks):\n",
        "    x = ResidualBlock(filters=128)(x)\n",
        "\n",
        "for _ in range(2):\n",
        "    x = PixelConvLayer(\n",
        "        mask_type=\"B\",\n",
        "        filters=128,\n",
        "        kernel_size=1,\n",
        "        strides=1,\n",
        "        activation=\"relu\",\n",
        "        padding=\"valid\",\n",
        "    )(x)\n",
        "\n",
        "out = keras.layers.Conv2D(\n",
        "    filters=3, kernel_size=1, strides=1, activation=\"sigmoid\", padding=\"valid\"\n",
        ")(x)\n",
        "\n",
        "pixel_cnn = keras.Model(inputs, out)\n",
        "adam = keras.optimizers.Adam(learning_rate=0.0005)\n",
        "pixel_cnn.compile(optimizer=adam, loss=\"binary_crossentropy\")\n",
        "\n",
        "pixel_cnn.summary()\n",
        "pixel_cnn.fit(\n",
        "    x=data, y=data, batch_size=128, epochs=50, validation_split=0.1, verbose=2\n",
        ")"
      ],
      "metadata": {
        "colab": {
          "base_uri": "https://localhost:8080/",
          "height": 1000
        },
        "id": "lycd_-h2zJAO",
        "outputId": "e0c864bf-dc49-4a6d-ea7a-bf421d4e9992"
      },
      "execution_count": 5,
      "outputs": [
        {
          "data": {
            "text/html": [
              "<pre style=\"white-space:pre;overflow-x:auto;line-height:normal;font-family:Menlo,'DejaVu Sans Mono',consolas,'Courier New',monospace\"><span style=\"font-weight: bold\">Model: \"functional_1\"</span>\n",
              "</pre>\n"
            ],
            "text/plain": [
              "\u001b[1mModel: \"functional_1\"\u001b[0m\n"
            ]
          },
          "metadata": {},
          "output_type": "display_data"
        },
        {
          "data": {
            "text/html": [
              "<pre style=\"white-space:pre;overflow-x:auto;line-height:normal;font-family:Menlo,'DejaVu Sans Mono',consolas,'Courier New',monospace\">┏━━━━━━━━━━━━━━━━━━━━━━━━━━━━━━━━━━━━┳━━━━━━━━━━━━━━━━━━━━━━━━━━━━━━━┳━━━━━━━━━━━━━┓\n",
              "┃<span style=\"font-weight: bold\"> Layer (type)                       </span>┃<span style=\"font-weight: bold\"> Output Shape                  </span>┃<span style=\"font-weight: bold\">     Param # </span>┃\n",
              "┡━━━━━━━━━━━━━━━━━━━━━━━━━━━━━━━━━━━━╇━━━━━━━━━━━━━━━━━━━━━━━━━━━━━━━╇━━━━━━━━━━━━━┩\n",
              "│ input_layer (<span style=\"color: #0087ff; text-decoration-color: #0087ff\">InputLayer</span>)           │ (<span style=\"color: #00af00; text-decoration-color: #00af00\">128</span>, <span style=\"color: #00af00; text-decoration-color: #00af00\">32</span>, <span style=\"color: #00af00; text-decoration-color: #00af00\">32</span>, <span style=\"color: #00af00; text-decoration-color: #00af00\">3</span>)              │           <span style=\"color: #00af00; text-decoration-color: #00af00\">0</span> │\n",
              "├────────────────────────────────────┼───────────────────────────────┼─────────────┤\n",
              "│ pixel_conv_layer (<span style=\"color: #0087ff; text-decoration-color: #0087ff\">PixelConvLayer</span>)  │ (<span style=\"color: #00af00; text-decoration-color: #00af00\">128</span>, <span style=\"color: #00af00; text-decoration-color: #00af00\">32</span>, <span style=\"color: #00af00; text-decoration-color: #00af00\">32</span>, <span style=\"color: #00af00; text-decoration-color: #00af00\">128</span>)            │      <span style=\"color: #00af00; text-decoration-color: #00af00\">18,944</span> │\n",
              "├────────────────────────────────────┼───────────────────────────────┼─────────────┤\n",
              "│ residual_block (<span style=\"color: #0087ff; text-decoration-color: #0087ff\">ResidualBlock</span>)     │ (<span style=\"color: #00af00; text-decoration-color: #00af00\">128</span>, <span style=\"color: #00af00; text-decoration-color: #00af00\">32</span>, <span style=\"color: #00af00; text-decoration-color: #00af00\">32</span>, <span style=\"color: #00af00; text-decoration-color: #00af00\">128</span>)            │      <span style=\"color: #00af00; text-decoration-color: #00af00\">98,624</span> │\n",
              "├────────────────────────────────────┼───────────────────────────────┼─────────────┤\n",
              "│ residual_block_1 (<span style=\"color: #0087ff; text-decoration-color: #0087ff\">ResidualBlock</span>)   │ (<span style=\"color: #00af00; text-decoration-color: #00af00\">128</span>, <span style=\"color: #00af00; text-decoration-color: #00af00\">32</span>, <span style=\"color: #00af00; text-decoration-color: #00af00\">32</span>, <span style=\"color: #00af00; text-decoration-color: #00af00\">128</span>)            │      <span style=\"color: #00af00; text-decoration-color: #00af00\">98,624</span> │\n",
              "├────────────────────────────────────┼───────────────────────────────┼─────────────┤\n",
              "│ residual_block_2 (<span style=\"color: #0087ff; text-decoration-color: #0087ff\">ResidualBlock</span>)   │ (<span style=\"color: #00af00; text-decoration-color: #00af00\">128</span>, <span style=\"color: #00af00; text-decoration-color: #00af00\">32</span>, <span style=\"color: #00af00; text-decoration-color: #00af00\">32</span>, <span style=\"color: #00af00; text-decoration-color: #00af00\">128</span>)            │      <span style=\"color: #00af00; text-decoration-color: #00af00\">98,624</span> │\n",
              "├────────────────────────────────────┼───────────────────────────────┼─────────────┤\n",
              "│ residual_block_3 (<span style=\"color: #0087ff; text-decoration-color: #0087ff\">ResidualBlock</span>)   │ (<span style=\"color: #00af00; text-decoration-color: #00af00\">128</span>, <span style=\"color: #00af00; text-decoration-color: #00af00\">32</span>, <span style=\"color: #00af00; text-decoration-color: #00af00\">32</span>, <span style=\"color: #00af00; text-decoration-color: #00af00\">128</span>)            │      <span style=\"color: #00af00; text-decoration-color: #00af00\">98,624</span> │\n",
              "├────────────────────────────────────┼───────────────────────────────┼─────────────┤\n",
              "│ residual_block_4 (<span style=\"color: #0087ff; text-decoration-color: #0087ff\">ResidualBlock</span>)   │ (<span style=\"color: #00af00; text-decoration-color: #00af00\">128</span>, <span style=\"color: #00af00; text-decoration-color: #00af00\">32</span>, <span style=\"color: #00af00; text-decoration-color: #00af00\">32</span>, <span style=\"color: #00af00; text-decoration-color: #00af00\">128</span>)            │      <span style=\"color: #00af00; text-decoration-color: #00af00\">98,624</span> │\n",
              "├────────────────────────────────────┼───────────────────────────────┼─────────────┤\n",
              "│ pixel_conv_layer_6                 │ (<span style=\"color: #00af00; text-decoration-color: #00af00\">128</span>, <span style=\"color: #00af00; text-decoration-color: #00af00\">32</span>, <span style=\"color: #00af00; text-decoration-color: #00af00\">32</span>, <span style=\"color: #00af00; text-decoration-color: #00af00\">128</span>)            │      <span style=\"color: #00af00; text-decoration-color: #00af00\">16,512</span> │\n",
              "│ (<span style=\"color: #0087ff; text-decoration-color: #0087ff\">PixelConvLayer</span>)                   │                               │             │\n",
              "├────────────────────────────────────┼───────────────────────────────┼─────────────┤\n",
              "│ pixel_conv_layer_7                 │ (<span style=\"color: #00af00; text-decoration-color: #00af00\">128</span>, <span style=\"color: #00af00; text-decoration-color: #00af00\">32</span>, <span style=\"color: #00af00; text-decoration-color: #00af00\">32</span>, <span style=\"color: #00af00; text-decoration-color: #00af00\">128</span>)            │      <span style=\"color: #00af00; text-decoration-color: #00af00\">16,512</span> │\n",
              "│ (<span style=\"color: #0087ff; text-decoration-color: #0087ff\">PixelConvLayer</span>)                   │                               │             │\n",
              "├────────────────────────────────────┼───────────────────────────────┼─────────────┤\n",
              "│ conv2d_18 (<span style=\"color: #0087ff; text-decoration-color: #0087ff\">Conv2D</span>)                 │ (<span style=\"color: #00af00; text-decoration-color: #00af00\">128</span>, <span style=\"color: #00af00; text-decoration-color: #00af00\">32</span>, <span style=\"color: #00af00; text-decoration-color: #00af00\">32</span>, <span style=\"color: #00af00; text-decoration-color: #00af00\">3</span>)              │         <span style=\"color: #00af00; text-decoration-color: #00af00\">387</span> │\n",
              "└────────────────────────────────────┴───────────────────────────────┴─────────────┘\n",
              "</pre>\n"
            ],
            "text/plain": [
              "┏━━━━━━━━━━━━━━━━━━━━━━━━━━━━━━━━━━━━┳━━━━━━━━━━━━━━━━━━━━━━━━━━━━━━━┳━━━━━━━━━━━━━┓\n",
              "┃\u001b[1m \u001b[0m\u001b[1mLayer (type)                      \u001b[0m\u001b[1m \u001b[0m┃\u001b[1m \u001b[0m\u001b[1mOutput Shape                 \u001b[0m\u001b[1m \u001b[0m┃\u001b[1m \u001b[0m\u001b[1m    Param #\u001b[0m\u001b[1m \u001b[0m┃\n",
              "┡━━━━━━━━━━━━━━━━━━━━━━━━━━━━━━━━━━━━╇━━━━━━━━━━━━━━━━━━━━━━━━━━━━━━━╇━━━━━━━━━━━━━┩\n",
              "│ input_layer (\u001b[38;5;33mInputLayer\u001b[0m)           │ (\u001b[38;5;34m128\u001b[0m, \u001b[38;5;34m32\u001b[0m, \u001b[38;5;34m32\u001b[0m, \u001b[38;5;34m3\u001b[0m)              │           \u001b[38;5;34m0\u001b[0m │\n",
              "├────────────────────────────────────┼───────────────────────────────┼─────────────┤\n",
              "│ pixel_conv_layer (\u001b[38;5;33mPixelConvLayer\u001b[0m)  │ (\u001b[38;5;34m128\u001b[0m, \u001b[38;5;34m32\u001b[0m, \u001b[38;5;34m32\u001b[0m, \u001b[38;5;34m128\u001b[0m)            │      \u001b[38;5;34m18,944\u001b[0m │\n",
              "├────────────────────────────────────┼───────────────────────────────┼─────────────┤\n",
              "│ residual_block (\u001b[38;5;33mResidualBlock\u001b[0m)     │ (\u001b[38;5;34m128\u001b[0m, \u001b[38;5;34m32\u001b[0m, \u001b[38;5;34m32\u001b[0m, \u001b[38;5;34m128\u001b[0m)            │      \u001b[38;5;34m98,624\u001b[0m │\n",
              "├────────────────────────────────────┼───────────────────────────────┼─────────────┤\n",
              "│ residual_block_1 (\u001b[38;5;33mResidualBlock\u001b[0m)   │ (\u001b[38;5;34m128\u001b[0m, \u001b[38;5;34m32\u001b[0m, \u001b[38;5;34m32\u001b[0m, \u001b[38;5;34m128\u001b[0m)            │      \u001b[38;5;34m98,624\u001b[0m │\n",
              "├────────────────────────────────────┼───────────────────────────────┼─────────────┤\n",
              "│ residual_block_2 (\u001b[38;5;33mResidualBlock\u001b[0m)   │ (\u001b[38;5;34m128\u001b[0m, \u001b[38;5;34m32\u001b[0m, \u001b[38;5;34m32\u001b[0m, \u001b[38;5;34m128\u001b[0m)            │      \u001b[38;5;34m98,624\u001b[0m │\n",
              "├────────────────────────────────────┼───────────────────────────────┼─────────────┤\n",
              "│ residual_block_3 (\u001b[38;5;33mResidualBlock\u001b[0m)   │ (\u001b[38;5;34m128\u001b[0m, \u001b[38;5;34m32\u001b[0m, \u001b[38;5;34m32\u001b[0m, \u001b[38;5;34m128\u001b[0m)            │      \u001b[38;5;34m98,624\u001b[0m │\n",
              "├────────────────────────────────────┼───────────────────────────────┼─────────────┤\n",
              "│ residual_block_4 (\u001b[38;5;33mResidualBlock\u001b[0m)   │ (\u001b[38;5;34m128\u001b[0m, \u001b[38;5;34m32\u001b[0m, \u001b[38;5;34m32\u001b[0m, \u001b[38;5;34m128\u001b[0m)            │      \u001b[38;5;34m98,624\u001b[0m │\n",
              "├────────────────────────────────────┼───────────────────────────────┼─────────────┤\n",
              "│ pixel_conv_layer_6                 │ (\u001b[38;5;34m128\u001b[0m, \u001b[38;5;34m32\u001b[0m, \u001b[38;5;34m32\u001b[0m, \u001b[38;5;34m128\u001b[0m)            │      \u001b[38;5;34m16,512\u001b[0m │\n",
              "│ (\u001b[38;5;33mPixelConvLayer\u001b[0m)                   │                               │             │\n",
              "├────────────────────────────────────┼───────────────────────────────┼─────────────┤\n",
              "│ pixel_conv_layer_7                 │ (\u001b[38;5;34m128\u001b[0m, \u001b[38;5;34m32\u001b[0m, \u001b[38;5;34m32\u001b[0m, \u001b[38;5;34m128\u001b[0m)            │      \u001b[38;5;34m16,512\u001b[0m │\n",
              "│ (\u001b[38;5;33mPixelConvLayer\u001b[0m)                   │                               │             │\n",
              "├────────────────────────────────────┼───────────────────────────────┼─────────────┤\n",
              "│ conv2d_18 (\u001b[38;5;33mConv2D\u001b[0m)                 │ (\u001b[38;5;34m128\u001b[0m, \u001b[38;5;34m32\u001b[0m, \u001b[38;5;34m32\u001b[0m, \u001b[38;5;34m3\u001b[0m)              │         \u001b[38;5;34m387\u001b[0m │\n",
              "└────────────────────────────────────┴───────────────────────────────┴─────────────┘\n"
            ]
          },
          "metadata": {},
          "output_type": "display_data"
        },
        {
          "data": {
            "text/html": [
              "<pre style=\"white-space:pre;overflow-x:auto;line-height:normal;font-family:Menlo,'DejaVu Sans Mono',consolas,'Courier New',monospace\"><span style=\"font-weight: bold\"> Total params: </span><span style=\"color: #00af00; text-decoration-color: #00af00\">545,475</span> (2.08 MB)\n",
              "</pre>\n"
            ],
            "text/plain": [
              "\u001b[1m Total params: \u001b[0m\u001b[38;5;34m545,475\u001b[0m (2.08 MB)\n"
            ]
          },
          "metadata": {},
          "output_type": "display_data"
        },
        {
          "data": {
            "text/html": [
              "<pre style=\"white-space:pre;overflow-x:auto;line-height:normal;font-family:Menlo,'DejaVu Sans Mono',consolas,'Courier New',monospace\"><span style=\"font-weight: bold\"> Trainable params: </span><span style=\"color: #00af00; text-decoration-color: #00af00\">545,475</span> (2.08 MB)\n",
              "</pre>\n"
            ],
            "text/plain": [
              "\u001b[1m Trainable params: \u001b[0m\u001b[38;5;34m545,475\u001b[0m (2.08 MB)\n"
            ]
          },
          "metadata": {},
          "output_type": "display_data"
        },
        {
          "data": {
            "text/html": [
              "<pre style=\"white-space:pre;overflow-x:auto;line-height:normal;font-family:Menlo,'DejaVu Sans Mono',consolas,'Courier New',monospace\"><span style=\"font-weight: bold\"> Non-trainable params: </span><span style=\"color: #00af00; text-decoration-color: #00af00\">0</span> (0.00 B)\n",
              "</pre>\n"
            ],
            "text/plain": [
              "\u001b[1m Non-trainable params: \u001b[0m\u001b[38;5;34m0\u001b[0m (0.00 B)\n"
            ]
          },
          "metadata": {},
          "output_type": "display_data"
        },
        {
          "output_type": "stream",
          "name": "stdout",
          "text": [
            "Epoch 1/50\n",
            "422/422 - 73s - 174ms/step - loss: 0.2183 - val_loss: 0.1812\n",
            "Epoch 2/50\n",
            "422/422 - 63s - 149ms/step - loss: 0.1794 - val_loss: 0.1783\n",
            "Epoch 3/50\n",
            "422/422 - 83s - 197ms/step - loss: 0.1771 - val_loss: 0.1778\n",
            "Epoch 4/50\n",
            "422/422 - 48s - 114ms/step - loss: 0.1758 - val_loss: 0.1756\n",
            "Epoch 5/50\n",
            "422/422 - 84s - 198ms/step - loss: 0.1751 - val_loss: 0.1750\n",
            "Epoch 6/50\n",
            "422/422 - 48s - 114ms/step - loss: 0.1744 - val_loss: 0.1763\n",
            "Epoch 7/50\n",
            "422/422 - 50s - 117ms/step - loss: 0.1740 - val_loss: 0.1745\n",
            "Epoch 8/50\n",
            "422/422 - 48s - 114ms/step - loss: 0.1736 - val_loss: 0.1740\n",
            "Epoch 9/50\n",
            "422/422 - 82s - 193ms/step - loss: 0.1733 - val_loss: 0.1738\n",
            "Epoch 10/50\n",
            "422/422 - 82s - 194ms/step - loss: 0.1730 - val_loss: 0.1745\n",
            "Epoch 11/50\n",
            "422/422 - 80s - 191ms/step - loss: 0.1729 - val_loss: 0.1738\n",
            "Epoch 12/50\n",
            "422/422 - 82s - 194ms/step - loss: 0.1727 - val_loss: 0.1733\n",
            "Epoch 13/50\n",
            "422/422 - 83s - 197ms/step - loss: 0.1724 - val_loss: 0.1729\n",
            "Epoch 14/50\n",
            "422/422 - 81s - 191ms/step - loss: 0.1722 - val_loss: 0.1733\n",
            "Epoch 15/50\n",
            "422/422 - 48s - 115ms/step - loss: 0.1720 - val_loss: 0.1727\n",
            "Epoch 16/50\n",
            "422/422 - 47s - 112ms/step - loss: 0.1719 - val_loss: 0.1729\n",
            "Epoch 17/50\n",
            "422/422 - 49s - 115ms/step - loss: 0.1718 - val_loss: 0.1723\n",
            "Epoch 18/50\n",
            "422/422 - 48s - 113ms/step - loss: 0.1716 - val_loss: 0.1722\n",
            "Epoch 19/50\n",
            "422/422 - 81s - 192ms/step - loss: 0.1716 - val_loss: 0.1729\n",
            "Epoch 20/50\n",
            "422/422 - 82s - 194ms/step - loss: 0.1714 - val_loss: 0.1720\n",
            "Epoch 21/50\n",
            "422/422 - 83s - 196ms/step - loss: 0.1713 - val_loss: 0.1722\n",
            "Epoch 22/50\n",
            "422/422 - 82s - 194ms/step - loss: 0.1712 - val_loss: 0.1722\n",
            "Epoch 23/50\n",
            "422/422 - 47s - 111ms/step - loss: 0.1711 - val_loss: 0.1719\n",
            "Epoch 24/50\n",
            "422/422 - 48s - 115ms/step - loss: 0.1710 - val_loss: 0.1719\n",
            "Epoch 25/50\n",
            "422/422 - 49s - 115ms/step - loss: 0.1710 - val_loss: 0.1717\n",
            "Epoch 26/50\n",
            "422/422 - 81s - 192ms/step - loss: 0.1709 - val_loss: 0.1719\n",
            "Epoch 27/50\n",
            "422/422 - 83s - 197ms/step - loss: 0.1708 - val_loss: 0.1719\n",
            "Epoch 28/50\n",
            "422/422 - 82s - 194ms/step - loss: 0.1708 - val_loss: 0.1716\n",
            "Epoch 29/50\n",
            "422/422 - 83s - 197ms/step - loss: 0.1707 - val_loss: 0.1718\n",
            "Epoch 30/50\n",
            "422/422 - 82s - 194ms/step - loss: 0.1706 - val_loss: 0.1716\n",
            "Epoch 31/50\n",
            "422/422 - 82s - 194ms/step - loss: 0.1705 - val_loss: 0.1720\n",
            "Epoch 32/50\n",
            "422/422 - 49s - 116ms/step - loss: 0.1705 - val_loss: 0.1714\n",
            "Epoch 33/50\n",
            "422/422 - 81s - 193ms/step - loss: 0.1704 - val_loss: 0.1726\n",
            "Epoch 34/50\n",
            "422/422 - 82s - 194ms/step - loss: 0.1704 - val_loss: 0.1717\n",
            "Epoch 35/50\n",
            "422/422 - 83s - 197ms/step - loss: 0.1703 - val_loss: 0.1719\n",
            "Epoch 36/50\n",
            "422/422 - 82s - 194ms/step - loss: 0.1702 - val_loss: 0.1713\n",
            "Epoch 37/50\n",
            "422/422 - 49s - 116ms/step - loss: 0.1702 - val_loss: 0.1714\n",
            "Epoch 38/50\n",
            "422/422 - 49s - 117ms/step - loss: 0.1701 - val_loss: 0.1715\n",
            "Epoch 39/50\n",
            "422/422 - 82s - 194ms/step - loss: 0.1701 - val_loss: 0.1714\n",
            "Epoch 40/50\n",
            "422/422 - 48s - 114ms/step - loss: 0.1700 - val_loss: 0.1712\n",
            "Epoch 41/50\n",
            "422/422 - 84s - 198ms/step - loss: 0.1700 - val_loss: 0.1713\n",
            "Epoch 42/50\n",
            "422/422 - 48s - 114ms/step - loss: 0.1699 - val_loss: 0.1712\n",
            "Epoch 43/50\n",
            "422/422 - 84s - 198ms/step - loss: 0.1699 - val_loss: 0.1711\n",
            "Epoch 44/50\n",
            "422/422 - 49s - 116ms/step - loss: 0.1699 - val_loss: 0.1717\n",
            "Epoch 45/50\n",
            "422/422 - 48s - 115ms/step - loss: 0.1698 - val_loss: 0.1710\n",
            "Epoch 46/50\n",
            "422/422 - 48s - 114ms/step - loss: 0.1697 - val_loss: 0.1711\n",
            "Epoch 47/50\n",
            "422/422 - 83s - 198ms/step - loss: 0.1697 - val_loss: 0.1710\n",
            "Epoch 48/50\n",
            "422/422 - 49s - 116ms/step - loss: 0.1696 - val_loss: 0.1711\n",
            "Epoch 49/50\n",
            "422/422 - 49s - 117ms/step - loss: 0.1696 - val_loss: 0.1710\n",
            "Epoch 50/50\n",
            "422/422 - 48s - 114ms/step - loss: 0.1696 - val_loss: 0.1709\n"
          ]
        },
        {
          "output_type": "execute_result",
          "data": {
            "text/plain": [
              "<keras.src.callbacks.history.History at 0x79ace6542d10>"
            ]
          },
          "metadata": {},
          "execution_count": 5
        }
      ]
    },
    {
      "cell_type": "code",
      "source": [
        "from IPython.display import Image, display\n",
        "\n",
        "# Create an empty array of pixels.\n",
        "batch = 4\n",
        "pixels = np.zeros(shape=(batch,) + (pixel_cnn.input_shape)[1:])\n",
        "batch, rows, cols, channels = pixels.shape\n",
        "\n",
        "# Iterate over the pixels because generation has to be done sequentially pixel by pixel.\n",
        "for row in tqdm(range(rows)):\n",
        "    for col in range(cols):\n",
        "        for channel in range(channels):\n",
        "            # Feed the whole array and retrieving the pixel value probabilities for the next\n",
        "            # pixel.\n",
        "            probs = pixel_cnn.predict(pixels)[:, row, col, channel]\n",
        "            # Use the probabilities to pick pixel values and append the values to the image\n",
        "            # frame.\n",
        "            pixels[:, row, col, channel] = ops.ceil(\n",
        "                probs - keras.random.uniform(probs.shape)\n",
        "            )\n",
        "\n",
        "\n",
        "def deprocess_image(x):\n",
        "    # Stack the single channeled black and white image to rgb values.\n",
        "    x = np.stack((x, x, x), 2)\n",
        "    # Undo preprocessing\n",
        "    x *= 255.0\n",
        "    # Convert to uint8 and clip to the valid range [0, 255]\n",
        "    x = np.clip(x, 0, 255).astype(\"uint8\")\n",
        "    return x\n",
        "\n",
        "\n",
        "# Iterate over the generated images and plot them with matplotlib.\n",
        "for i, pic in enumerate(pixels):\n",
        "    keras.utils.save_img(\n",
        "        \"generated_image_{}.png\".format(i), deprocess_image(np.squeeze(pic, -1))\n",
        "    )\n",
        "\n",
        "display(Image(\"generated_image_0.png\"))\n",
        "display(Image(\"generated_image_1.png\"))\n",
        "display(Image(\"generated_image_2.png\"))\n",
        "display(Image(\"generated_image_3.png\"))"
      ],
      "metadata": {
        "id": "GZ9yooTqnSXP"
      },
      "execution_count": null,
      "outputs": []
    }
  ],
  "metadata": {
    "colab": {
      "provenance": [],
      "gpuType": "T4",
      "include_colab_link": true
    },
    "kernelspec": {
      "display_name": "Python 3",
      "name": "python3"
    },
    "language_info": {
      "codemirror_mode": {
        "name": "ipython",
        "version": 3
      },
      "file_extension": ".py",
      "mimetype": "text/x-python",
      "name": "python",
      "nbconvert_exporter": "python",
      "pygments_lexer": "ipython3",
      "version": "3.10.12"
    },
    "accelerator": "GPU"
  },
  "nbformat": 4,
  "nbformat_minor": 0
}